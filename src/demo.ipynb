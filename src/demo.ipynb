{
 "cells": [
  {
   "cell_type": "code",
   "execution_count": null,
   "metadata": {
    "colab": {
     "base_uri": "https://localhost:8080/",
     "height": 34
    },
    "colab_type": "code",
    "executionInfo": {
     "elapsed": 769,
     "status": "ok",
     "timestamp": 1573927417497,
     "user": {
      "displayName": "Maksym Manziuk",
      "photoUrl": "https://lh3.googleusercontent.com/a-/AAuE7mAtm8rXbXKD31MHiszU0Tr32fNNLhvHsAZiiw0KAQ=s64",
      "userId": "13013050866457067411"
     },
     "user_tz": -120
    },
    "id": "Unfd0_ezDiHl",
    "outputId": "8e523d3b-b068-4d08-cd72-346616ea7cc6"
   },
   "outputs": [],
   "source": [
    "# uncomment in case of google colab\n",
    "# from google.colab import drive\n",
    "# drive.mount('/content/drive')\n",
    "\n",
    "import tensorflow as tf2\n",
    "print(tf2.__version__)"
   ]
  },
  {
   "cell_type": "code",
   "execution_count": null,
   "metadata": {
    "colab": {},
    "colab_type": "code",
    "id": "WZqniVotEFSd"
   },
   "outputs": [],
   "source": [
    "# uncomment in case of google colab\n",
    "# import os\n",
    "# PATH_TO_FILE = '/content/drive/My Drive/Development/fashion_instance_segmentation/src'\n",
    "# os.chdir(PATH_TO_FILE)"
   ]
  },
  {
   "cell_type": "code",
   "execution_count": null,
   "metadata": {
    "colab": {
     "base_uri": "https://localhost:8080/",
     "height": 34
    },
    "colab_type": "code",
    "executionInfo": {
     "elapsed": 908,
     "status": "ok",
     "timestamp": 1573927445587,
     "user": {
      "displayName": "Maksym Manziuk",
      "photoUrl": "https://lh3.googleusercontent.com/a-/AAuE7mAtm8rXbXKD31MHiszU0Tr32fNNLhvHsAZiiw0KAQ=s64",
      "userId": "13013050866457067411"
     },
     "user_tz": -120
    },
    "id": "jnHlCSreEVPq",
    "outputId": "55724005-af5c-499f-dcc9-fc88d15e8992"
   },
   "outputs": [],
   "source": [
    "import os\n",
    "import sys\n",
    "import itertools\n",
    "import math\n",
    "import logging\n",
    "import json\n",
    "import re\n",
    "import random\n",
    "from collections import OrderedDict\n",
    "import numpy as np\n",
    "import matplotlib\n",
    "import matplotlib.pyplot as plt\n",
    "import matplotlib.patches as patches\n",
    "import matplotlib.lines as lines\n",
    "from matplotlib.patches import Polygon\n",
    "\n",
    "# Root directory of the project\n",
    "ROOT_DIR = os.path.abspath(\"../\")\n",
    "\n",
    "# Import Mask RCNN\n",
    "sys.path.append(ROOT_DIR)  # To find local version of the library\n",
    "\n",
    "MRNN_DIR = os.path.join(ROOT_DIR, 'externals/mask_rcnn')\n",
    "#print(MRNN_DIR)\n",
    "sys.path.append(MRNN_DIR)\n",
    "\n",
    "from mrcnn import utils\n",
    "from mrcnn import visualize\n",
    "from mrcnn.visualize import display_images\n",
    "import mrcnn.model as modellib\n",
    "from mrcnn.model import log\n",
    "\n",
    "import rle_helper\n",
    "import dress\n",
    "#from src import dress\n",
    "\n",
    "%matplotlib inline "
   ]
  },
  {
   "cell_type": "code",
   "execution_count": null,
   "metadata": {
    "colab": {},
    "colab_type": "code",
    "id": "QFAP_mXfS22r"
   },
   "outputs": [],
   "source": [
    "def get_ax(rows=1, cols=1, size=8):\n",
    "    \"\"\"Return a Matplotlib Axes array to be used in\n",
    "    all visualizations in the notebook. Provide a\n",
    "    central point to control graph sizes.\n",
    "    \n",
    "    Change the default size attribute to control the size\n",
    "    of rendered images\n",
    "    \"\"\"\n",
    "    _, ax = plt.subplots(rows, cols, figsize=(size*cols, size*rows))\n",
    "    return ax"
   ]
  },
  {
   "cell_type": "code",
   "execution_count": null,
   "metadata": {
    "colab": {},
    "colab_type": "code",
    "id": "MkkXWWqzBYWY"
   },
   "outputs": [],
   "source": [
    "DRESS_DIR = os.path.join(ROOT_DIR, \"data\")\n",
    "\n",
    "configResnet101 = dress.DressConfig()\n",
    "configResnet50 = dress.DressResnet50Config()"
   ]
  },
  {
   "cell_type": "code",
   "execution_count": null,
   "metadata": {
    "colab": {
     "base_uri": "https://localhost:8080/",
     "height": 921
    },
    "colab_type": "code",
    "executionInfo": {
     "elapsed": 836,
     "status": "ok",
     "timestamp": 1573927471790,
     "user": {
      "displayName": "Maksym Manziuk",
      "photoUrl": "https://lh3.googleusercontent.com/a-/AAuE7mAtm8rXbXKD31MHiszU0Tr32fNNLhvHsAZiiw0KAQ=s64",
      "userId": "13013050866457067411"
     },
     "user_tz": -120
    },
    "id": "QeCfLugxV9rS",
    "outputId": "79ff8972-1855-414a-ada1-c35a2d317394"
   },
   "outputs": [],
   "source": [
    "configResnet101.display()"
   ]
  },
  {
   "cell_type": "code",
   "execution_count": null,
   "metadata": {
    "colab": {
     "base_uri": "https://localhost:8080/",
     "height": 921
    },
    "colab_type": "code",
    "executionInfo": {
     "elapsed": 909,
     "status": "ok",
     "timestamp": 1573927475260,
     "user": {
      "displayName": "Maksym Manziuk",
      "photoUrl": "https://lh3.googleusercontent.com/a-/AAuE7mAtm8rXbXKD31MHiszU0Tr32fNNLhvHsAZiiw0KAQ=s64",
      "userId": "13013050866457067411"
     },
     "user_tz": -120
    },
    "id": "ivkYhruOV_lz",
    "outputId": "a0c96486-eb7c-4dca-d320-606a4854a9f0"
   },
   "outputs": [],
   "source": [
    "configResnet50.display()"
   ]
  },
  {
   "cell_type": "code",
   "execution_count": null,
   "metadata": {
    "colab": {
     "base_uri": "https://localhost:8080/",
     "height": 85
    },
    "colab_type": "code",
    "executionInfo": {
     "elapsed": 865,
     "status": "ok",
     "timestamp": 1573927478541,
     "user": {
      "displayName": "Maksym Manziuk",
      "photoUrl": "https://lh3.googleusercontent.com/a-/AAuE7mAtm8rXbXKD31MHiszU0Tr32fNNLhvHsAZiiw0KAQ=s64",
      "userId": "13013050866457067411"
     },
     "user_tz": -120
    },
    "id": "Bn7cs-4i6Qss",
    "outputId": "0422b9b8-1c51-4b68-94a1-51a53228add0"
   },
   "outputs": [],
   "source": [
    "dataset_train = dress.DressDataset()\n",
    "dataset_train.load_dress(DRESS_DIR, \"train\")\n",
    "dataset_train.prepare()\n",
    "\n",
    "# Validation dataset\n",
    "dataset_val = dress.DressDataset()\n",
    "dataset_val.load_dress(DRESS_DIR, \"val\")\n",
    "dataset_val.prepare()\n",
    "\n",
    "print(\"Image Count: {}\".format(len(dataset_train.image_ids)))\n",
    "print(\"Image Count: {}\".format(len(dataset_val.image_ids)))\n",
    "print(\"Class Count: {}\".format(dataset_train.num_classes))\n",
    "for i, info in enumerate(dataset_train.class_info):\n",
    "    print(\"{:3}. {:50}\".format(i, info['name']))"
   ]
  },
  {
   "cell_type": "code",
   "execution_count": null,
   "metadata": {
    "colab": {
     "base_uri": "https://localhost:8080/",
     "height": 617
    },
    "colab_type": "code",
    "executionInfo": {
     "elapsed": 4887,
     "status": "ok",
     "timestamp": 1573927488890,
     "user": {
      "displayName": "Maksym Manziuk",
      "photoUrl": "https://lh3.googleusercontent.com/a-/AAuE7mAtm8rXbXKD31MHiszU0Tr32fNNLhvHsAZiiw0KAQ=s64",
      "userId": "13013050866457067411"
     },
     "user_tz": -120
    },
    "id": "BWnxlTCe7E9k",
    "outputId": "7d73217d-aac9-44ba-aa4c-ac6d16ff00ff"
   },
   "outputs": [],
   "source": [
    "image_ids = np.random.choice(dataset_train.image_ids, 4)\n",
    "for image_id in image_ids:\n",
    "    image = dataset_train.load_image(image_id)\n",
    "    mask, class_ids = dataset_train.load_mask(image_id)\n",
    "    visualize.display_top_masks(image, mask, class_ids, dataset_train.class_names)"
   ]
  },
  {
   "cell_type": "code",
   "execution_count": null,
   "metadata": {
    "colab": {},
    "colab_type": "code",
    "id": "MXMTcrZmM8sT"
   },
   "outputs": [],
   "source": [
    "# Directory to save logs and trained model\n",
    "MODEL_DIR = os.path.join(ROOT_DIR, \"logs\")"
   ]
  },
  {
   "cell_type": "code",
   "execution_count": null,
   "metadata": {
    "colab": {},
    "colab_type": "code",
    "id": "p7tbI27EMzpl"
   },
   "outputs": [],
   "source": [
    "# Create model in training mode\n",
    "modelResnet101 = modellib.MaskRCNN(mode=\"training\", config=configResnet101,\n",
    "                          model_dir=MODEL_DIR)\n",
    "\n",
    "# Create model in training mode\n",
    "modelResnet50 = modellib.MaskRCNN(mode=\"training\", config=configResnet50,\n",
    "                          model_dir=MODEL_DIR)"
   ]
  },
  {
   "cell_type": "code",
   "execution_count": null,
   "metadata": {
    "colab": {
     "base_uri": "https://localhost:8080/",
     "height": 241
    },
    "colab_type": "code",
    "executionInfo": {
     "elapsed": 25613,
     "status": "ok",
     "timestamp": 1573927536170,
     "user": {
      "displayName": "Maksym Manziuk",
      "photoUrl": "https://lh3.googleusercontent.com/a-/AAuE7mAtm8rXbXKD31MHiszU0Tr32fNNLhvHsAZiiw0KAQ=s64",
      "userId": "13013050866457067411"
     },
     "user_tz": -120
    },
    "id": "IoxQpnTOo2lq",
    "outputId": "9e33e466-dd0a-4c50-97f1-5ed1b88fb76c"
   },
   "outputs": [],
   "source": [
    "# Local path to trained weights file\n",
    "COCO_MODEL_PATH = os.path.join(MRNN_DIR, \"mask_rcnn_coco.h5\")\n",
    "if not os.path.exists(COCO_MODEL_PATH):\n",
    "    utils.download_trained_weights(COCO_MODEL_PATH)\n",
    "\n",
    "modelResnet101.load_weights(COCO_MODEL_PATH, by_name=True,\n",
    "                       exclude=[\"mrcnn_class_logits\", \"mrcnn_bbox_fc\", \n",
    "                                \"mrcnn_bbox\", \"mrcnn_mask\"])\n",
    "\n",
    "\n",
    "modelResnet50.load_weights(COCO_MODEL_PATH, by_name=True,\n",
    "                       exclude=[\"mrcnn_class_logits\", \"mrcnn_bbox_fc\", \n",
    "                                \"mrcnn_bbox\", \"mrcnn_mask\"])"
   ]
  },
  {
   "cell_type": "code",
   "execution_count": null,
   "metadata": {
    "colab": {
     "base_uri": "https://localhost:8080/",
     "height": 1000
    },
    "colab_type": "code",
    "executionInfo": {
     "elapsed": 1188814,
     "status": "ok",
     "timestamp": 1573928834334,
     "user": {
      "displayName": "Maksym Manziuk",
      "photoUrl": "https://lh3.googleusercontent.com/a-/AAuE7mAtm8rXbXKD31MHiszU0Tr32fNNLhvHsAZiiw0KAQ=s64",
      "userId": "13013050866457067411"
     },
     "user_tz": -120
    },
    "id": "_R1eTmdbQHcH",
    "outputId": "90be9f24-7873-4690-d60b-05be13db65dc"
   },
   "outputs": [],
   "source": [
    "# Train the head branches\n",
    "# Passing layers=\"heads\" freezes all layers except the head\n",
    "# layers. You can also pass a regular expression to select\n",
    "# which layers to train by name pattern.\n",
    "modelResnet50.train(dataset_train, dataset_val, \n",
    "            learning_rate=configResnet50.LEARNING_RATE, \n",
    "            epochs=10, \n",
    "            layers='heads')"
   ]
  },
  {
   "cell_type": "code",
   "execution_count": null,
   "metadata": {
    "colab": {
     "base_uri": "https://localhost:8080/",
     "height": 190
    },
    "colab_type": "code",
    "executionInfo": {
     "elapsed": 12468,
     "status": "ok",
     "timestamp": 1573929221451,
     "user": {
      "displayName": "Maksym Manziuk",
      "photoUrl": "https://lh3.googleusercontent.com/a-/AAuE7mAtm8rXbXKD31MHiszU0Tr32fNNLhvHsAZiiw0KAQ=s64",
      "userId": "13013050866457067411"
     },
     "user_tz": -120
    },
    "id": "YMLyl4oDQHXh",
    "outputId": "9068b1c3-cf54-450c-d321-fc81667a5337"
   },
   "outputs": [],
   "source": [
    "inference_config = dress.InferenceResnet50Config()\n",
    "\n",
    "# Recreate the model in inference mode\n",
    "modelResnet50 = modellib.MaskRCNN(mode=\"inference\", \n",
    "                          config=inference_config,\n",
    "                          model_dir=MODEL_DIR)\n",
    "\n",
    "# Get path to saved weights\n",
    "# Either set a specific path or find last trained weights\n",
    "# model_path = os.path.join(ROOT_DIR, \".h5 file name here\")\n",
    "model_path = modelResnet50.find_last()\n",
    "\n",
    "# Load trained weights\n",
    "print(\"Loading weights from \", model_path)\n",
    "modelResnet50.load_weights(model_path, by_name=True)"
   ]
  },
  {
   "cell_type": "code",
   "execution_count": null,
   "metadata": {
    "colab": {
     "base_uri": "https://localhost:8080/",
     "height": 551
    },
    "colab_type": "code",
    "executionInfo": {
     "elapsed": 2329,
     "status": "ok",
     "timestamp": 1573929230008,
     "user": {
      "displayName": "Maksym Manziuk",
      "photoUrl": "https://lh3.googleusercontent.com/a-/AAuE7mAtm8rXbXKD31MHiszU0Tr32fNNLhvHsAZiiw0KAQ=s64",
      "userId": "13013050866457067411"
     },
     "user_tz": -120
    },
    "id": "pDiyOa_KMcYz",
    "outputId": "a1d12488-e1fe-479d-a295-88919c6d3eef"
   },
   "outputs": [],
   "source": [
    "# Test on a random image\n",
    "image_id = random.choice(dataset_val.image_ids)\n",
    "original_image, image_meta, gt_class_id, gt_bbox, gt_mask =\\\n",
    "    modellib.load_image_gt(dataset_val, inference_config, \n",
    "                           image_id, use_mini_mask=False)\n",
    "\n",
    "log(\"original_image\", original_image)\n",
    "log(\"image_meta\", image_meta)\n",
    "log(\"gt_class_id\", gt_class_id)\n",
    "log(\"gt_bbox\", gt_bbox)\n",
    "log(\"gt_mask\", gt_mask)\n",
    "\n",
    "visualize.display_instances(original_image, gt_bbox, gt_mask, gt_class_id, \n",
    "                            dataset_train.class_names, figsize=(8, 8))"
   ]
  },
  {
   "cell_type": "code",
   "execution_count": null,
   "metadata": {
    "colab": {
     "base_uri": "https://localhost:8080/",
     "height": 551
    },
    "colab_type": "code",
    "executionInfo": {
     "elapsed": 6836,
     "status": "ok",
     "timestamp": 1573929247055,
     "user": {
      "displayName": "Maksym Manziuk",
      "photoUrl": "https://lh3.googleusercontent.com/a-/AAuE7mAtm8rXbXKD31MHiszU0Tr32fNNLhvHsAZiiw0KAQ=s64",
      "userId": "13013050866457067411"
     },
     "user_tz": -120
    },
    "id": "uIM82aMLMcUm",
    "outputId": "3e5d2cd6-2318-49b8-bd86-14c8d06404ca"
   },
   "outputs": [],
   "source": [
    "results = modelResnet50.detect([original_image], verbose=1)\n",
    "\n",
    "r = results[0]\n",
    "visualize.display_instances(original_image, r['rois'], r['masks'], r['class_ids'], \n",
    "                            dataset_val.class_names, r['scores'], ax=get_ax())"
   ]
  },
  {
   "cell_type": "code",
   "execution_count": null,
   "metadata": {
    "colab": {
     "base_uri": "https://localhost:8080/",
     "height": 1000
    },
    "colab_type": "code",
    "executionInfo": {
     "elapsed": 1462174,
     "status": "ok",
     "timestamp": 1573930719099,
     "user": {
      "displayName": "Maksym Manziuk",
      "photoUrl": "https://lh3.googleusercontent.com/a-/AAuE7mAtm8rXbXKD31MHiszU0Tr32fNNLhvHsAZiiw0KAQ=s64",
      "userId": "13013050866457067411"
     },
     "user_tz": -120
    },
    "id": "T1UTevznMcRg",
    "outputId": "bd0b03f3-3da0-4a3c-f67a-4b08a7a8b66b"
   },
   "outputs": [],
   "source": [
    "modelResnet101.train(dataset_train, dataset_val, \n",
    "            learning_rate=configResnet101.LEARNING_RATE, \n",
    "            epochs=10, \n",
    "            layers='heads')"
   ]
  },
  {
   "cell_type": "code",
   "execution_count": null,
   "metadata": {
    "colab": {
     "base_uri": "https://localhost:8080/",
     "height": 51
    },
    "colab_type": "code",
    "executionInfo": {
     "elapsed": 68264,
     "status": "ok",
     "timestamp": 1573930796625,
     "user": {
      "displayName": "Maksym Manziuk",
      "photoUrl": "https://lh3.googleusercontent.com/a-/AAuE7mAtm8rXbXKD31MHiszU0Tr32fNNLhvHsAZiiw0KAQ=s64",
      "userId": "13013050866457067411"
     },
     "user_tz": -120
    },
    "id": "niBBSF25STTr",
    "outputId": "a3224237-b587-45ee-d82b-49d53528c8e0"
   },
   "outputs": [],
   "source": [
    "\n",
    "inference_config = dress.InferenceResnet101Config()\n",
    "\n",
    "# Recreate the model in inference mode\n",
    "modelResnet101 = modellib.MaskRCNN(mode=\"inference\", \n",
    "                          config=inference_config,\n",
    "                          model_dir=MODEL_DIR)\n",
    "\n",
    "# Get path to saved weights\n",
    "# Either set a specific path or find last trained weights\n",
    "# model_path = os.path.join(ROOT_DIR, \".h5 file name here\")\n",
    "model_path = modelResnet101.find_last()\n",
    "\n",
    "# Load trained weights\n",
    "print(\"Loading weights from \", model_path)\n",
    "modelResnet101.load_weights(model_path, by_name=True)"
   ]
  },
  {
   "cell_type": "code",
   "execution_count": null,
   "metadata": {
    "colab": {
     "base_uri": "https://localhost:8080/",
     "height": 551
    },
    "colab_type": "code",
    "executionInfo": {
     "elapsed": 7309,
     "status": "ok",
     "timestamp": 1573930808761,
     "user": {
      "displayName": "Maksym Manziuk",
      "photoUrl": "https://lh3.googleusercontent.com/a-/AAuE7mAtm8rXbXKD31MHiszU0Tr32fNNLhvHsAZiiw0KAQ=s64",
      "userId": "13013050866457067411"
     },
     "user_tz": -120
    },
    "id": "uHnecdWKSTQi",
    "outputId": "987c27a5-aba3-4920-98d0-8309dae6c622"
   },
   "outputs": [],
   "source": [
    "results = modelResnet101.detect([original_image], verbose=1)\n",
    "\n",
    "r = results[0]\n",
    "visualize.display_instances(original_image, r['rois'], r['masks'], r['class_ids'], \n",
    "                            dataset_val.class_names, r['scores'], ax=get_ax())"
   ]
  }
 ],
 "metadata": {
  "accelerator": "GPU",
  "colab": {
   "collapsed_sections": [],
   "name": "demo.ipynb",
   "provenance": []
  },
  "kernelspec": {
   "display_name": "mask",
   "language": "python",
   "name": "mask"
  },
  "language_info": {
   "codemirror_mode": {
    "name": "ipython",
    "version": 3
   },
   "file_extension": ".py",
   "mimetype": "text/x-python",
   "name": "python",
   "nbconvert_exporter": "python",
   "pygments_lexer": "ipython3",
   "version": "3.6.9"
  }
 },
 "nbformat": 4,
 "nbformat_minor": 1
}
